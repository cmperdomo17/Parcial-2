{
 "cells": [
  {
   "cell_type": "code",
   "execution_count": null,
   "metadata": {},
   "outputs": [],
   "source": [
    "# Algoritmo genético para planificar el tráfico \n",
    "# de llegadas de vuelos en un aeropuerto.\n",
    "\n",
    "# Para cada n vuelos se dispone de un TEL (Tiempo Estimado Llegada) de las m pistas disponibles\n",
    "\n",
    "# El tiempo planificado al asignar un vuelo a una pista\n",
    "# no puede ser anterior que el correspondiente TEL.\n",
    "\n",
    "# tipos de aviones:\n",
    "# Pesado (W), Grande (G), Pequeño (P).\n",
    "\n",
    "# Cuando se asigna un vuelo a una pista, el retardo resultante se define como la diferencia entre\n",
    "# el tiempo de llegada asignado (TLA) y el menor TEL de ese vuelo en todas las pistas.\n",
    "# Utilizaremos, entre otros, los siguientes datos de prueba:\n",
    "\n",
    "# Identificadores de vuelo IV: (UA138, UA532, UA599, NW358, UA2987, AA128, UA1482, NW357,\n",
    "# AA129, UA2408, UA805, AA309);\n",
    "\n",
    "# para los que los correspondientes tipos de avión (TV) vienen dados por la lista: TV =\n",
    "# (W,G,W,W,P,W,G,W,W,P,W,G)"
   ]
  }
 ],
 "metadata": {
  "language_info": {
   "name": "python"
  }
 },
 "nbformat": 4,
 "nbformat_minor": 2
}
